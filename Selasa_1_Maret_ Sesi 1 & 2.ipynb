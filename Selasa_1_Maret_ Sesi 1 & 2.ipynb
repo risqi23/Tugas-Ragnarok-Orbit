{
 "cells": [
  {
   "cell_type": "markdown",
   "id": "7eae9afc",
   "metadata": {},
   "source": [
    "##String Indexing"
   ]
  },
  {
   "cell_type": "code",
   "execution_count": 6,
   "id": "7a764453",
   "metadata": {},
   "outputs": [
    {
     "name": "stdout",
     "output_type": "stream",
     "text": [
      "Risqi Andika\n",
      "R\n"
     ]
    }
   ],
   "source": [
    "s=\"Risqi Andika\"\n",
    "print(s)\n",
    "print(s[0])"
   ]
  },
  {
   "cell_type": "markdown",
   "id": "cd155997",
   "metadata": {},
   "source": [
    "##String Concatenation"
   ]
  },
  {
   "cell_type": "code",
   "execution_count": 8,
   "id": "cf97cbf0",
   "metadata": {},
   "outputs": [
    {
     "name": "stdout",
     "output_type": "stream",
     "text": [
      "Risqi Andika\n"
     ]
    }
   ],
   "source": [
    "s1='Risqi'\n",
    "s2=\"Andika\"\n",
    "print(s1 + ' ' + s2 )"
   ]
  },
  {
   "cell_type": "code",
   "execution_count": 12,
   "id": "9512ef9d",
   "metadata": {},
   "outputs": [
    {
     "name": "stdout",
     "output_type": "stream",
     "text": [
      "RisqiRisqiRisqi  andika\n"
     ]
    }
   ],
   "source": [
    "s1='Risqi'\n",
    "s2=\"Andika\"\n",
    "print(s1 * 3 + \" \" + 'andika')"
   ]
  },
  {
   "cell_type": "markdown",
   "id": "00b6816c",
   "metadata": {},
   "source": [
    "##String Slicing & Indexing"
   ]
  },
  {
   "cell_type": "code",
   "execution_count": 24,
   "id": "9a5989d5",
   "metadata": {},
   "outputs": [
    {
     "name": "stdout",
     "output_type": "stream",
     "text": [
      "d\n",
      "And\n",
      "\n",
      "True\n"
     ]
    }
   ],
   "source": [
    "s=\"Andika Abshar\"\n",
    "print(s[2])\n",
    "print(s[:3])\n",
    "print(s[4:2])\n",
    "print('Abshar' in s)"
   ]
  },
  {
   "cell_type": "markdown",
   "id": "8546d2c9",
   "metadata": {},
   "source": [
    "##Basic Built-in String Methods"
   ]
  },
  {
   "cell_type": "code",
   "execution_count": 33,
   "id": "27bca17e",
   "metadata": {},
   "outputs": [
    {
     "name": "stdout",
     "output_type": "stream",
     "text": [
      "RISQI ANDIKA ABSHAR\n",
      "risqi andika abshar\n"
     ]
    }
   ],
   "source": [
    "s=\"Risqi Andika Abshar\"\n",
    "print(s.upper())\n",
    "print(s.lower())"
   ]
  },
  {
   "cell_type": "markdown",
   "id": "a4b3dd36",
   "metadata": {},
   "source": [
    "##Print Formating"
   ]
  },
  {
   "cell_type": "code",
   "execution_count": 38,
   "id": "4f3ff9c4",
   "metadata": {},
   "outputs": [
    {
     "name": "stdout",
     "output_type": "stream",
     "text": [
      "My name is Andika, My age is 20, and it is True that im study\n"
     ]
    }
   ],
   "source": [
    "name= \"Andika\"\n",
    "age= 20\n",
    "study= True\n",
    "\n",
    "print(\"My name is {}, My age is {}, and it is {} that im study\".format(name, age, study))"
   ]
  },
  {
   "cell_type": "markdown",
   "id": "c9d094dc",
   "metadata": {},
   "source": [
    "##Types Of Number"
   ]
  },
  {
   "cell_type": "markdown",
   "id": "a5183a6c",
   "metadata": {},
   "source": [
    "1. Basic Arithmetic"
   ]
  },
  {
   "cell_type": "code",
   "execution_count": 39,
   "id": "fc5b130b",
   "metadata": {},
   "outputs": [
    {
     "name": "stdout",
     "output_type": "stream",
     "text": [
      "125\n",
      "58\n",
      "450\n",
      "270\n"
     ]
    }
   ],
   "source": [
    "print(100 + 25)\n",
    "print(123 - 65)\n",
    "print(30 * 15)\n",
    "print(90 * 3)"
   ]
  },
  {
   "cell_type": "markdown",
   "id": "9fc2a527",
   "metadata": {},
   "source": [
    "2. Arithmetic Continue"
   ]
  },
  {
   "cell_type": "code",
   "execution_count": 40,
   "id": "f012a69b",
   "metadata": {},
   "outputs": [
    {
     "data": {
      "text/plain": [
       "10000000000"
      ]
     },
     "execution_count": 40,
     "metadata": {},
     "output_type": "execute_result"
    }
   ],
   "source": [
    "10**10"
   ]
  },
  {
   "cell_type": "code",
   "execution_count": 41,
   "id": "0cdb856c",
   "metadata": {},
   "outputs": [
    {
     "data": {
      "text/plain": [
       "40"
      ]
     },
     "execution_count": 41,
     "metadata": {},
     "output_type": "execute_result"
    }
   ],
   "source": [
    "15 + 25 - 40 * 0"
   ]
  },
  {
   "cell_type": "code",
   "execution_count": 42,
   "id": "e3b1465f",
   "metadata": {},
   "outputs": [
    {
     "data": {
      "text/plain": [
       "30.0"
      ]
     },
     "execution_count": 42,
     "metadata": {},
     "output_type": "execute_result"
    }
   ],
   "source": [
    "(10 + 5) * (30 / 15)"
   ]
  },
  {
   "cell_type": "markdown",
   "id": "84dffcc7",
   "metadata": {},
   "source": [
    "Variable Assighment"
   ]
  },
  {
   "cell_type": "code",
   "execution_count": 43,
   "id": "0acc0c73",
   "metadata": {},
   "outputs": [
    {
     "data": {
      "text/plain": [
       "20.5"
      ]
     },
     "execution_count": 43,
     "metadata": {},
     "output_type": "execute_result"
    }
   ],
   "source": [
    "a = 20\n",
    "b = 10\n",
    "c = 5\n",
    "\n",
    "a + c / b"
   ]
  },
  {
   "cell_type": "markdown",
   "id": "7c88f8dc",
   "metadata": {},
   "source": [
    "Identifying Data Types"
   ]
  },
  {
   "cell_type": "code",
   "execution_count": 44,
   "id": "e777d223",
   "metadata": {},
   "outputs": [
    {
     "name": "stdout",
     "output_type": "stream",
     "text": [
      "<class 'int'>\n",
      "<class 'float'>\n"
     ]
    }
   ],
   "source": [
    "a = 12\n",
    "b = 10.5\n",
    "print(type(a))\n",
    "print(type(b))"
   ]
  },
  {
   "cell_type": "markdown",
   "id": "167ce791",
   "metadata": {},
   "source": [
    "Lists"
   ]
  },
  {
   "cell_type": "code",
   "execution_count": 46,
   "id": "01e897dd",
   "metadata": {},
   "outputs": [
    {
     "data": {
      "text/plain": [
       "8"
      ]
     },
     "execution_count": 46,
     "metadata": {},
     "output_type": "execute_result"
    }
   ],
   "source": [
    "Mylist = [1,2,3,4,5,'a','b',10.5]\n",
    "len(Mylist)"
   ]
  },
  {
   "cell_type": "code",
   "execution_count": 47,
   "id": "a58ff900",
   "metadata": {},
   "outputs": [
    {
     "name": "stdout",
     "output_type": "stream",
     "text": [
      "[25, 5, 2001, ['mei'], 'i was born']\n"
     ]
    }
   ],
   "source": [
    "Dk = [25,5,2001,['mei']]\n",
    "Dk.append('i was born')\n",
    "print(Dk)"
   ]
  },
  {
   "cell_type": "code",
   "execution_count": 50,
   "id": "903d9bf1",
   "metadata": {},
   "outputs": [
    {
     "name": "stdout",
     "output_type": "stream",
     "text": [
      "[1, 2, 3, 4, 5, 6]\n"
     ]
    }
   ],
   "source": [
    "x = [1, 2 ,3]\n",
    "x.extend([4,5,6])\n",
    "print(x)"
   ]
  },
  {
   "cell_type": "markdown",
   "id": "4b1c3964",
   "metadata": {},
   "source": [
    "Slicing"
   ]
  },
  {
   "cell_type": "code",
   "execution_count": 52,
   "id": "9e8eb63f",
   "metadata": {},
   "outputs": [
    {
     "name": "stdout",
     "output_type": "stream",
     "text": [
      "[0, 1, 2, 3, 4, 5, 6, 7, 8, 9]\n"
     ]
    }
   ],
   "source": [
    "lst = list(range(10))\n",
    "print(lst)"
   ]
  },
  {
   "cell_type": "code",
   "execution_count": 56,
   "id": "54421bd6",
   "metadata": {},
   "outputs": [
    {
     "name": "stdout",
     "output_type": "stream",
     "text": [
      "elemen dari index 4 to 7: [4, 5, 6]\n",
      "elemen alternatif, mulai dari 0: [0, 2, 4, 6, 8]\n",
      "setiap elemen ketiga, dimulai dari 1: [1, 4, 7]\n"
     ]
    }
   ],
   "source": [
    "print(\"elemen dari index 4 to 7:\", lst[4:7])\n",
    "print(\"elemen alternatif, mulai dari 0:\", lst[0::2])\n",
    "print(\"setiap elemen ketiga, dimulai dari 1:\", lst[1::3])"
   ]
  },
  {
   "cell_type": "code",
   "execution_count": null,
   "id": "2d5e57ab",
   "metadata": {},
   "outputs": [],
   "source": []
  }
 ],
 "metadata": {
  "kernelspec": {
   "display_name": "Python 3 (ipykernel)",
   "language": "python",
   "name": "python3"
  },
  "language_info": {
   "codemirror_mode": {
    "name": "ipython",
    "version": 3
   },
   "file_extension": ".py",
   "mimetype": "text/x-python",
   "name": "python",
   "nbconvert_exporter": "python",
   "pygments_lexer": "ipython3",
   "version": "3.9.7"
  }
 },
 "nbformat": 4,
 "nbformat_minor": 5
}
